{
 "cells": [
  {
   "cell_type": "markdown",
   "id": "bf7dd77e-956c-4008-8445-caaffa69397e",
   "metadata": {},
   "source": [
    "# Testing L96 problem setup\n",
    "Includes problem setup and testing of algorithms \n",
    "\n",
    "By: Rebecca Gjini + Kyle Ivey\n",
    "09/15/2024"
   ]
  },
  {
   "cell_type": "code",
   "execution_count": 1,
   "id": "79b3d2bd-9369-4ef8-adab-59cef61d12bb",
   "metadata": {},
   "outputs": [],
   "source": [
    "#Import statements\n",
    "import numpy as np\n",
    "import matplotlib.pyplot as plt\n",
    "import numba\n",
    "from numba import jit, njit\n",
    "from scipy.linalg import sqrtm\n",
    "from scipy.optimize import least_squares\n",
    "import EnsembleKalmanAlgorithms as EKA\n",
    "import l96.L96_model as l96\n",
    "from cycler import cycler\n",
    "\n",
    "#Plot preferences from palettable.colorbrewer.qualitative import Set1_9\n",
    "from palettable.colorbrewer.qualitative import Dark2_8\n",
    "\n",
    "#Plot Preferences \n",
    "plt.rcParams['figure.figsize'] = [11.0, 9.0] #size (w, h)\n",
    "plt.rcParams['figure.dpi'] = 80\n",
    "plt.rcParams['savefig.dpi'] = 400\n",
    "\n",
    "plt.rcParams['font.size'] = 18 # controls default text sizes\n",
    "plt.rcParams['legend.fontsize'] = 'large' # legend fontsize\n",
    "plt.rcParams['figure.titlesize'] = 'large' # fontsize of the figure title  \n",
    "plt.rcParams['axes.titlesize'] = 18     # fontsize of the axes title\n",
    "plt.rcParams['axes.labelsize'] = 32   # fontsize of the x and y labels 35\n",
    "plt.rcParams['xtick.labelsize'] = 20    # fontsize of the tick labels 17\n",
    "plt.rcParams['ytick.labelsize'] = 20   # fontsize of the tick labels 17\n",
    "plt.rcParams['axes.spines.right'] = False #makes right line in plot disappear\n",
    "plt.rcParams['axes.spines.top'] = False #makes top line in plot disappear\n",
    "plt.rcParams[\"font.family\"] = \"Times New Roman\"\n",
    "\n",
    "plt.rcParams['axes.prop_cycle'] = cycler(color=Dark2_8.mpl_colors)"
   ]
  },
  {
   "cell_type": "code",
   "execution_count": 74,
   "id": "044c2030-dda7-4397-9c3b-32f2cc31c497",
   "metadata": {},
   "outputs": [],
   "source": [
    "#initialize random seed\n",
    "np.random.seed(2)\n",
    "\n",
    "#Creating my sythetic data\n",
    "#initalize model variables\n",
    "gamma = 8.0  #forcing constant\n",
    "nx = 40  #dimensions of parameter vector\n",
    "\n",
    "t = 0.01  #time step\n",
    "T_long = 1000  #total time \n",
    "\n",
    "#beginning state\n",
    "int_state = np.random.uniform(0,1,nx)"
   ]
  },
  {
   "cell_type": "code",
   "execution_count": 75,
   "id": "b03ac3e9-1e8d-4aa9-b8c2-3306eb990a9a",
   "metadata": {},
   "outputs": [
    {
     "name": "stdout",
     "output_type": "stream",
     "text": [
      "[-0.4640552  -0.46400299  8.52213632 -0.37650577  0.57228566 -2.64426571\n",
      "  5.56670562  2.30753091 -4.04182181 -1.85505251  9.30282636  1.79212948\n",
      " -1.72525487  0.73032027  2.96878859  8.58502128  6.26418014 -2.8422204\n",
      "  2.65591106  8.25857874  1.43514177 -4.01198229  1.11264213  0.6126342\n",
      "  4.6826581   3.54836693 -1.49247799  2.71576159  9.26662878 -0.928033\n",
      "  0.35304236 -0.05410076  2.29866293  7.29239048 -4.47814684 -1.43686238\n",
      "  0.76386643  2.26573518  6.9634644   0.08079971]\n"
     ]
    }
   ],
   "source": [
    "#Find the initial condition for my data\n",
    "spin_up_array = l96.runge_kutta_v(int_state, t, T_long, gamma)\n",
    "#intital condition used for the data\n",
    "x0 = spin_up_array[-1]\n",
    "np.savetxt('l96/data/x0.txt', x0, delimiter = ',') \n",
    "print(x0)"
   ]
  },
  {
   "cell_type": "code",
   "execution_count": 76,
   "id": "e315c0a4-84de-4ac6-9114-64d593039d30",
   "metadata": {},
   "outputs": [
    {
     "name": "stdout",
     "output_type": "stream",
     "text": [
      "[ 1.93922818e+00  8.95535889e+00  9.88901945e-05  6.54413758e+00\n",
      " -5.99240960e+00  6.06441983e+00 -1.52596085e+00  5.80565413e+00\n",
      " -4.78182550e+00 -6.39740204e-01 -2.91989279e+00  1.48134749e+00\n",
      "  6.69101190e+00 -1.34634836e+00  8.79839694e+00  3.06457850e+00\n",
      "  4.39917187e+00 -2.56431791e+00  4.09505773e+00  5.42210476e+00]\n"
     ]
    }
   ],
   "source": [
    "#Creating my sythetic data\n",
    "T = 0.2\n",
    "ny = 20   #number of data points\n",
    "H = np.zeros((ny, nx))  #creating sampling matrix\n",
    "for i in range(0, ny): \n",
    "    H[i, i + i] = 1\n",
    "# np.savetxt('l96/data/H.txt', H, delimiter = ',') \n",
    "\n",
    "model_out_y = l96.G(x0, t, T, H, gamma)\n",
    "y = model_out_y  + np.random.normal(0, 1, ny) \n",
    "print(y)\n",
    "\n",
    "#Solving for Covariance matrix\n",
    "covT = 2000  #time to simulate to calculate a covariance matrix of the system\n",
    "cov_solve = l96.runge_kutta_v(x0, t, covT, gamma)\n",
    "B = np.cov(cov_solve.T) #Prior covariance matrix\n",
    "B_sqrt = EKA.matrix_sqrt(B)\n",
    "\n",
    "R = np.identity(ny)  #Data covarinace matrix\n",
    "R_sqrt_in =  np.identity(ny)\n",
    "\n",
    "mu = np.mean(cov_solve, axis = 0) #Prior mean\n",
    "\n",
    "#Save problem data, prior, and covarainces \n",
    "np.savetxt('l96/data/y.txt', y, delimiter = ',') \n",
    "np.savetxt('l96/data/R.txt', R, delimiter = ',')\n",
    "np.savetxt('l96/data/mu.txt', mu, delimiter = ',')\n",
    "np.savetxt('l96/data/B.txt', B, delimiter = ',')\n"
   ]
  },
  {
   "cell_type": "code",
   "execution_count": null,
   "id": "3942159f",
   "metadata": {},
   "outputs": [],
   "source": [
    "#Plot the prior covariance matrix (which should be the same as Cgg)\n",
    "plt.figure()\n",
    "plt.imshow(B)\n",
    "plt.show()"
   ]
  },
  {
   "cell_type": "code",
   "execution_count": 77,
   "id": "f1d6e8e6-d8f2-4a8b-a3c8-f0fe872ce4e3",
   "metadata": {},
   "outputs": [],
   "source": [
    "#Intitializing EKI ensemble\n",
    "K = 300        #number of ensemble members\n",
    "\n",
    "max_runs = 200   #set a maximum number of runs \n",
    "\n",
    "N_t = nx         #we only estimate beta and rho\n"
   ]
  },
  {
   "cell_type": "code",
   "execution_count": 78,
   "id": "0f5edf99-a405-4fbf-b904-0bb487fdd124",
   "metadata": {},
   "outputs": [
    {
     "name": "stdout",
     "output_type": "stream",
     "text": [
      "240\n"
     ]
    },
    {
     "data": {
      "text/plain": [
       "0.925059602886698"
      ]
     },
     "execution_count": 78,
     "metadata": {},
     "output_type": "execute_result"
    }
   ],
   "source": [
    "#TEKI Test \n",
    "teki_u, teki_f, Cgg, _ = EKA.TEKI(l96.G, K, (t, T, H, gamma), \n",
    "                          y, R, mu, B, min_rmse = 1, method = 'all', \n",
    "                             tol_x = 1e-4, tol_f = 1e-4, max_iter = 1)\n",
    "print(teki_f)\n",
    "ft = l96.G(np.mean(teki_u, axis = 1), t, T, H, gamma)\n",
    "np.sqrt((np.linalg.norm(R_sqrt_in@(y - ft))**2)/len(y))"
   ]
  },
  {
   "cell_type": "markdown",
   "id": "58c08ac2-8c75-4fd5-b973-4b40880030a6",
   "metadata": {},
   "source": [
    "## Notes\n",
    "- I mostly just copied things from other folders (can't think on the plane atm)\n",
    "- What I want to do is first check what the covariance structure of y looks like\n",
    "- Next, we should try to put together the GP process that will be used to alter the covariance matrix\n",
    "- Then we take samples from the GP and see if it looks similar to the \"true\" covariance"
   ]
  },
  {
   "cell_type": "markdown",
   "id": "efdc5fc3",
   "metadata": {},
   "source": []
  }
 ],
 "metadata": {
  "kernelspec": {
   "display_name": "Python 3 (ipykernel)",
   "language": "python",
   "name": "python3"
  },
  "language_info": {
   "codemirror_mode": {
    "name": "ipython",
    "version": 3
   },
   "file_extension": ".py",
   "mimetype": "text/x-python",
   "name": "python",
   "nbconvert_exporter": "python",
   "pygments_lexer": "ipython3",
   "version": "3.12.4"
  }
 },
 "nbformat": 4,
 "nbformat_minor": 5
}
